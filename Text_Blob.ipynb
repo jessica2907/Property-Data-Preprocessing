{
  "nbformat": 4,
  "nbformat_minor": 0,
  "metadata": {
    "colab": {
      "provenance": [],
      "mount_file_id": "13bLVDhDCuuwCZX3EZraXaBz9rEpKt1WC",
      "authorship_tag": "ABX9TyNYUB5EVygbIaCjzS1E4mf/",
      "include_colab_link": true
    },
    "kernelspec": {
      "name": "python3",
      "display_name": "Python 3"
    },
    "language_info": {
      "name": "python"
    }
  },
  "cells": [
    {
      "cell_type": "markdown",
      "metadata": {
        "id": "view-in-github",
        "colab_type": "text"
      },
      "source": [
        "<a href=\"https://colab.research.google.com/github/jessica2907/Property-Data-Preprocessing/blob/main/Text_Blob.ipynb\" target=\"_parent\"><img src=\"https://colab.research.google.com/assets/colab-badge.svg\" alt=\"Open In Colab\"/></a>"
      ]
    },
    {
      "cell_type": "code",
      "source": [
        "!pip install python-dotenv"
      ],
      "metadata": {
        "colab": {
          "base_uri": "https://localhost:8080/"
        },
        "id": "4S9wp0OaDJNr",
        "outputId": "a8ec1457-d7dc-4f6d-c4d9-10d29d852f72"
      },
      "execution_count": null,
      "outputs": [
        {
          "output_type": "stream",
          "name": "stdout",
          "text": [
            "Collecting python-dotenv\n",
            "  Downloading python_dotenv-1.1.0-py3-none-any.whl.metadata (24 kB)\n",
            "Downloading python_dotenv-1.1.0-py3-none-any.whl (20 kB)\n",
            "Installing collected packages: python-dotenv\n",
            "Successfully installed python-dotenv-1.1.0\n"
          ]
        }
      ]
    },
    {
      "cell_type": "code",
      "execution_count": null,
      "metadata": {
        "colab": {
          "base_uri": "https://localhost:8080/"
        },
        "id": "3suKqJnPA6hg",
        "outputId": "c7f2fcc0-8da1-4b62-8412-731a6b6a076e"
      },
      "outputs": [
        {
          "output_type": "stream",
          "name": "stdout",
          "text": [
            "🔄 Generating descriptions from dataset...\n",
            "✅ Embeddings saved to 'data_cleaned_with_description.csv'\n",
            "                                  naturalDescription\n",
            "0  Kauf/Miete: Kauf. Kategorie: Wohnen. Typ: Haus...\n",
            "1  Kauf/Miete: Kauf. Kategorie: Wohnen. Typ: Haus...\n"
          ]
        }
      ],
      "source": [
        "import pandas as pd\n",
        "from openai import OpenAI\n",
        "import os\n",
        "from dotenv import load_dotenv\n",
        "\n",
        "load_dotenv()\n",
        "\n",
        "# Load OpenAI API key\n",
        "client = OpenAI(api_key=\"INSERT KEY HERE\")\n",
        "\n",
        "# Function to get embedding\n",
        "def get_embedding(text, model=\"text-embedding-ada-002\"): #CHANGE THE MODEL TO A CHEAPER ONE!!\n",
        "    text = text.replace(\"\\n\", \" \").strip()\n",
        "    return client.embeddings.create(input=[text], model=model).data[0].embedding\n",
        "\n",
        "# Create description using all relevant (non-empty) columns\n",
        "def create_natural_description(row, relevant_cols):\n",
        "    parts = []\n",
        "    for col in relevant_cols:\n",
        "        value = row.get(col)\n",
        "        if pd.notna(value) and str(value).strip() != \"\":\n",
        "            parts.append(f\"{col.replace('_', ' ')}: {str(value).strip()}\")\n",
        "    return \". \".join(parts)\n",
        "\n",
        "# Process dataset and generate embeddings\n",
        "def create_embeddings_of_dataset():\n",
        "    df = pd.read_csv(\"/content/drive/MyDrive/Text_Blob/data_cleaned (1).csv\")\n",
        "    df.dropna(how='all', inplace=True)\n",
        "\n",
        "    # Select all columns except \"Propstack ID\" and \"Bilder\"\n",
        "    relevant_cols = [col for col in df.columns if col not in [\"Propstack ID\", \"Bilder\"]]\n",
        "\n",
        "    # Generate text descriptions\n",
        "    df['naturalDescription'] = df.apply(lambda row: create_natural_description(row, relevant_cols), axis=1)\n",
        "\n",
        "    # Save only original columns and 'naturalDescription' column (no duplicate)\n",
        "    columns_to_save = [col for col in df.columns if col != 'naturalDescriptionVector']  # Exclude 'naturalDescriptionVector'\n",
        "    df_to_save = df[columns_to_save]  # All original columns and naturalDescription\n",
        "\n",
        "    # Now append 'naturalDescription' at the far right\n",
        "    df_to_save['naturalDescription'] = df['naturalDescription']\n",
        "\n",
        "    df_to_save.to_csv('/content/drive/MyDrive/Text_Blob/data_cleaned_with_description.csv', index=False)\n",
        "\n",
        "    print(\"✅ Embeddings saved to 'data_cleaned_with_description.csv'\")\n",
        "    print(df[['naturalDescription']].head(2))\n",
        "\n",
        "\n",
        "def main():\n",
        "    print(\"🔄 Generating descriptions from dataset...\")\n",
        "    create_embeddings_of_dataset()\n",
        "\n",
        "\n",
        "if __name__ == \"__main__\":\n",
        "    main()\n"
      ]
    }
  ]
}